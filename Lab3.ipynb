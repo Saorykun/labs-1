{
 "cells": [
  {
   "cell_type": "markdown",
   "id": "667e9e7b",
   "metadata": {},
   "source": [
    "- Прочитайте главы 7-8 из книги \"Spark: The Definitive Guide\".\n",
    "- Загрузите датасеты по ссылкам:\n",
    "    - https://www.kaggle.com/datasets/sveta151/tiktok-popular-songs-2019\n",
    "    - https://www.kaggle.com/datasets/sveta151/tiktok-popular-songs-2020\n",
    "    - https://www.kaggle.com/datasets/sveta151/tiktok-popular-songs-2021\n",
    "    - https://www.kaggle.com/datasets/sveta151/tiktok-popular-songs-2022\n",
    "- Выполните задания."
   ]
  },
  {
   "cell_type": "code",
   "execution_count": 2,
   "id": "90ae95f5",
   "metadata": {},
   "outputs": [
    {
     "name": "stdout",
     "output_type": "stream",
     "text": [
      "22/12/22 23:06:04 WARN Utils: Your hostname, student-VirtualBox resolves to a loopback address: 127.0.1.1; using 10.0.2.15 instead (on interface enp0s3)\n",
      "22/12/22 23:06:04 WARN Utils: Set SPARK_LOCAL_IP if you need to bind to another address\n"
     ]
    },
    {
     "name": "stderr",
     "output_type": "stream",
     "text": [
      "Setting default log level to \"WARN\".\n",
      "To adjust logging level use sc.setLogLevel(newLevel). For SparkR, use setLogLevel(newLevel).\n"
     ]
    },
    {
     "name": "stdout",
     "output_type": "stream",
     "text": [
      "22/12/22 23:06:05 WARN NativeCodeLoader: Unable to load native-hadoop library for your platform... using builtin-java classes where applicable\n",
      "22/12/22 23:06:07 WARN Utils: Service 'SparkUI' could not bind on port 4040. Attempting port 4041.\n"
     ]
    },
    {
     "name": "stderr",
     "output_type": "stream",
     "text": [
      "                                                                                \r"
     ]
    }
   ],
   "source": [
    "from pyspark.sql import SparkSession\n",
    "spark = SparkSession.builder\\\n",
    "                    .master(\"local\")\\\n",
    "                    .appName('SparkLab3')\\\n",
    "                    .getOrCreate()\n",
    "\n",
    "# Загружаем наборы данных в один DataFrame.\n",
    "tiktokData19 = spark\\\n",
    "  .read\\\n",
    "  .option(\"inferSchema\", \"true\")\\\n",
    "  .option(\"header\", \"true\")\\\n",
    "  .csv(\"/home/student/Desktop/TikTok_songs_2019.csv\")\n",
    "tiktokData20 = spark\\\n",
    "  .read\\\n",
    "  .option(\"inferSchema\", \"true\")\\\n",
    "  .option(\"header\", \"true\")\\\n",
    "  .csv(\"/home/student/Desktop/TikTok_songs_2020.csv\")\n",
    "tiktokData21 = spark\\\n",
    "  .read\\\n",
    "  .option(\"inferSchema\", \"true\")\\\n",
    "  .option(\"header\", \"true\")\\\n",
    "  .csv(\"/home/student/Desktop/TikTok_songs_2021.csv\")\n",
    "tiktokData22 = spark\\\n",
    "  .read\\\n",
    "  .option(\"inferSchema\", \"true\")\\\n",
    "  .option(\"header\", \"true\")\\\n",
    "  .csv(\"/home/student/Desktop/TikTok_songs_2022.csv\")\n"
   ]
  },
  {
   "cell_type": "markdown",
   "id": "6e4041a5",
   "metadata": {},
   "source": [
    "№1: Добавьте столбец year целочисленного типа, который содержит год датасета для каждой строки данных. Выведите самые танцевальные песни из наборов данных вместе с полем year.\n",
    "\n",
    "|          track_name|artist_name|year|danceability|\n",
    "|--------------------|-----------|----|------------|\n",
    "|  Dancing in My Room|   347aidan|2020|        0.98|\n",
    "|                 Uno|    Ambjaay|2019|       0.978|\n",
    "|I'm Looking for M...|   Memetown|2020|       0.977|\n",
    "|           Hood Baby|       KBFR|2020|       0.974|\n",
    "|              MICKEY| Lil Yachty|2019|       0.971|\n",
    "|Muffins In The Fr...|      Tiagz|2020|       0.965|\n",
    "\n",
    "<div style=\"text-align: center\"> only showing top 6 rows </div>"
   ]
  },
  {
   "cell_type": "code",
   "execution_count": 3,
   "id": "ff1e6c30",
   "metadata": {},
   "outputs": [
    {
     "name": "stderr",
     "output_type": "stream",
     "text": [
      "\r",
      "[Stage 8:=============================>                             (2 + 1) / 4]\r",
      "\r",
      "                                                                                \r"
     ]
    },
    {
     "name": "stdout",
     "output_type": "stream",
     "text": [
      "+--------------------+-----------+----+------------+\n",
      "|          track_name|artist_name|year|danceability|\n",
      "+--------------------+-----------+----+------------+\n",
      "|  Dancing in My Room|   347aidan|2020|        0.98|\n",
      "|                 Uno|    Ambjaay|2019|       0.978|\n",
      "|I'm Looking for M...|   Memetown|2020|       0.977|\n",
      "|           Hood Baby|       KBFR|2020|       0.974|\n",
      "|              MICKEY| Lil Yachty|2019|       0.971|\n",
      "|Muffins In The Fr...|      Tiagz|2020|       0.965|\n",
      "+--------------------+-----------+----+------------+\n",
      "only showing top 6 rows\n",
      "\n"
     ]
    }
   ],
   "source": [
    "from pyspark.sql.functions import input_file_name\n",
    "from pyspark.sql.functions import regexp_extract\n",
    "from pyspark.sql.functions import desc\n",
    "from pyspark.sql.types import IntegerType\n",
    "from pyspark.sql.functions import lit\n",
    "\n",
    "\n",
    "\n",
    "tiktokData19= tiktokData19.withColumn(\"year\", lit(2019)) \n",
    "tiktokData20= tiktokData20.withColumn(\"year\", lit(2020)) \n",
    "tiktokData21= tiktokData21.withColumn(\"year\", lit(2021)) \n",
    "tiktokData22= tiktokData22.withColumn(\"year\", lit(2022)) \n",
    "\n",
    "tiktokData1920 = tiktokData19.unionByName(tiktokData20)\n",
    "tiktokData192021 = tiktokData1920.unionByName(tiktokData21)\n",
    "tiktokData = tiktokData192021.unionByName(tiktokData22)\n",
    "\n",
    "                      \n",
    "tiktokData.sort(desc(\"danceability\")).select(\"track_name\", \"artist_name\", \"year\", \"danceability\").show(6)"
   ]
  },
  {
   "cell_type": "markdown",
   "id": "c60255bd",
   "metadata": {},
   "source": [
    "№2: Найдите исполнителей, которым сопоставлено более одного значения популярности. Выведите эти значения в виде списков.\n",
    "\n",
    "|          artist|popularity|\n",
    "|----------------|----------|\n",
    "|            KYLE|  [65, 66]|\n",
    "|Kero Kero Bonito|  [57, 56]|\n",
    "|       Kesh Kesh|  [27, 26]|\n",
    "|    Mahogany Lox|  [38, 37]|\n",
    "|   Trevor Daniel|  [66, 65]|\n",
    "|       blackbear|  [79, 80]|"
   ]
  },
  {
   "cell_type": "code",
   "execution_count": 4,
   "id": "31724a4e",
   "metadata": {
    "scrolled": true
   },
   "outputs": [
    {
     "name": "stderr",
     "output_type": "stream",
     "text": [
      "[Stage 9:============================================>              (3 + 1) / 4]\r"
     ]
    },
    {
     "name": "stdout",
     "output_type": "stream",
     "text": [
      "+------------------+----------------------------+\n",
      "|artist_name       |artist_pop                  |\n",
      "+------------------+----------------------------+\n",
      "|Kanye West        |[90, 90, 90, 90, 90]        |\n",
      "|Kesha             |[76, 76, 76, 76, 76, 76, 76]|\n",
      "|Kuraiinu          |[42]                        |\n",
      "|K CAMP            |[63, 63]                    |\n",
      "|Kesh Kesh         |[27, 26]                    |\n",
      "|Kuwada            |[47]                        |\n",
      "|Kero Kero Bonito  |[56, 57]                    |\n",
      "|KYLE              |[65, 66, 66, 66]            |\n",
      "|Killua the Pilgrim|[16]                        |\n",
      "|Kenny Packer      |[24]                        |\n",
      "|KRYPTO9095        |[39]                        |\n",
      "|King Critical     |[29]                        |\n",
      "|KyleYouMadeThat   |[37]                        |\n",
      "|Kids Superstars   |[42]                        |\n",
      "|Kehlani           |[76]                        |\n",
      "|Kaash Paige       |[61]                        |\n",
      "|KBFR              |[36]                        |\n",
      "|Kendrick Lamar    |[88, 88]                    |\n",
      "|Kid Francescoli   |[56]                        |\n",
      "|K'ron             |[28]                        |\n",
      "|Kayla Nicole      |[54, 54]                    |\n",
      "|Kid Cudi          |[81]                        |\n",
      "|Khalid            |[85]                        |\n",
      "|Kaleb J           |[60]                        |\n",
      "|Khlaw             |[49]                        |\n",
      "|Kardinal Offishall|[60]                        |\n",
      "|Konfuz            |[51]                        |\n",
      "|Katy Perry        |[83, 83, 83]                |\n",
      "|Kate Bush         |[81]                        |\n",
      "|KillBunk          |[60]                        |\n",
      "|Kreepa            |[41]                        |\n",
      "|Kauai45           |[50]                        |\n",
      "|Kinrose           |[41]                        |\n",
      "|Kali Uchis        |[78]                        |\n",
      "+------------------+----------------------------+\n",
      "\n"
     ]
    },
    {
     "name": "stderr",
     "output_type": "stream",
     "text": [
      "\r",
      "                                                                                \r"
     ]
    }
   ],
   "source": [
    "from pyspark.sql.functions import col\n",
    "from pyspark.sql.functions import collect_list\n",
    "from pyspark.sql.functions import array\n",
    "\n",
    "tiktokData2 = tiktokData\\\n",
    "\n",
    "tiktokData2 = tiktokData2\\\n",
    ".groupBy(\"artist_name\").agg(collect_list(\"artist_pop\").alias(\"artist_pop\"))\n",
    "\n",
    "tiktokData2.where(\"artist_name ilike 'K%'\").show(50, False)"
   ]
  },
  {
   "cell_type": "markdown",
   "id": "37340d0e",
   "metadata": {},
   "source": [
    "№3: Исправьте различающиеся значения популярности исполнителей. Замените их на максимальные значения из полученных в предыдущем задании массивов.\n",
    "\n",
    "|          track_name|     artist_name|               album|artist_pop|\n",
    "|--------------------|----------------|--------------------|----------|\n",
    "|     hot girl bummer|       blackbear|     hot girl bummer|        80|\n",
    "|Hey Julie! (feat....|            KYLE|Light of Mine (De...|        66|\n",
    "|             Falling|   Trevor Daniel|             Falling|        66|\n",
    "|             Falling|   Trevor Daniel|            Nicotine|        66|\n",
    "|            Flamingo|Kero Kero Bonito|            Flamingo|        57|\n",
    "|       Take Your Man|    Mahogany Lox|       Take Your Man|        38|\n",
    "|              Vibin'|       Kesh Kesh|              Vibin'|        27|\n",
    "\n",
    "<div style=\"text-align: center\"> 968 </div>"
   ]
  },
  {
   "cell_type": "code",
   "execution_count": 5,
   "id": "61d8e2bd",
   "metadata": {},
   "outputs": [
    {
     "name": "stdout",
     "output_type": "stream",
     "text": [
      "+----------+-------------+--------+----------+\n",
      "|track_name|  artist_name|   album|artist_pop|\n",
      "+----------+-------------+--------+----------+\n",
      "|   Falling|Trevor Daniel| Falling|        66|\n",
      "|   Falling|Trevor Daniel|Nicotine|        66|\n",
      "|   Falling|Trevor Daniel| Falling|        66|\n",
      "|   Falling|Trevor Daniel| Falling|        66|\n",
      "+----------+-------------+--------+----------+\n",
      "\n"
     ]
    },
    {
     "name": "stderr",
     "output_type": "stream",
     "text": [
      "                                                                                \r"
     ]
    },
    {
     "name": "stdout",
     "output_type": "stream",
     "text": [
      "+--------------------+----------------+--------------------+----------+\n",
      "|          track_name|     artist_name|               album|artist_pop|\n",
      "+--------------------+----------------+--------------------+----------+\n",
      "|             Falling|   Trevor Daniel|            Nicotine|        66|\n",
      "|Hey Julie! (feat....|            KYLE|Light of Mine (De...|        66|\n",
      "|            Flamingo|Kero Kero Bonito|            Flamingo|        57|\n",
      "+--------------------+----------------+--------------------+----------+\n",
      "\n"
     ]
    },
    {
     "data": {
      "text/plain": [
       "968"
      ]
     },
     "execution_count": 5,
     "metadata": {},
     "output_type": "execute_result"
    }
   ],
   "source": [
    "from pyspark.sql.functions import array_max\n",
    "from pyspark.sql.functions import when\n",
    "\n",
    "tiktokData3 = tiktokData\\\n",
    " \n",
    "tiktokData2 = tiktokData2.select(\"artist_name\", array_max(\"artist_pop\").alias(\"artist_pop\"))\n",
    "\n",
    "\n",
    "tiktokData4 = tiktokData3.select(\"track_name\", \"artist_name\", \"album\", \"artist_pop\")\n",
    "tiktokData3 = tiktokData3.select(\"track_name\", col(\"artist_name\").alias(\"a\"), \"album\", col(\"artist_pop\").alias(\"old\"))\n",
    "tiktokData3 = tiktokData3.join(tiktokData2, tiktokData3.a == tiktokData2.artist_name, \"left\")\n",
    "\n",
    "tiktokData3 = tiktokData3.select(\"track_name\", \"artist_name\", \"album\", \"artist_pop\")\n",
    "\n",
    "tiktokData3.where(\"artist_name ilike 'Tre%'\").show(200)\n",
    "\n",
    "# Выводим различия между новым  и старым датафреймами\n",
    "substractDf = tiktokData3\\\n",
    "    .subtract(tiktokData4)\\\n",
    "    .select(\"track_name\", \"artist_name\", \"album\", \"artist_pop\")\\\n",
    "    .sort(desc(\"artist_pop\"))\n",
    "\n",
    "substractDf.show()\n",
    "tiktokData3.count()"
   ]
  },
  {
   "cell_type": "markdown",
   "id": "dacae573",
   "metadata": {},
   "source": [
    "№4: Сгруппируйте данные по названию трека, названию альбома, имени и популярности певца. Годы датасетов соберите в списки. Популярность треков возьмите из максимального значения. Для столбцов danceability, energy,   speechiness, acousticness, instrumentalness, liveness и valence возьмите среднее значение. Остальные столбцы отбросьте. Сколько получилось строк в сгруппированном DataFrame?\n",
    "\n",
    "Полученный датафрейм сохраните в новый parquet файл. Это можно сделать методом:\n",
    "\n",
    "```\n",
    "df.write.format(\"parquet\").mode(\"overwrite\").save(\"path to file\")\n",
    "```\n",
    "\n",
    "Результат при этом сохранится в новую директорию.\n",
    "Другой способ:\n",
    "\n",
    "```\n",
    "df.toPandas().to_parquet(\"path to file\")\n",
    "```\n",
    "\n",
    "Результат сохранится в один файл без создания директорий. Для этого способа понадобится библиотека pyarrow.\n",
    "Установите ее с помощью команд:\n",
    "\n",
    "```\n",
    "source ~/Work/bin/activate\n",
    "pip3 install pyarrow\n",
    "```"
   ]
  },
  {
   "cell_type": "code",
   "execution_count": 7,
   "id": "ca52658d",
   "metadata": {
    "scrolled": true
   },
   "outputs": [
    {
     "name": "stderr",
     "output_type": "stream",
     "text": [
      "                                                                                \r"
     ]
    },
    {
     "name": "stdout",
     "output_type": "stream",
     "text": [
      "+--------------------+--------------------+--------------------+----------+------------+------+-----------+------------+----------------+--------+-------+------------+---------+\n",
      "|          track_name|               album|         artist_name|artist_pop|danceability|energy|speechiness|acousticness|instrumentalness|liveness|valence|       years|track_pop|\n",
      "+--------------------+--------------------+--------------------+----------+------------+------+-----------+------------+----------------+--------+-------+------------+---------+\n",
      "|\"Galactic Mermaid...|\"Galactic Mermaid...|            Kuraiinu|        42|       0.621| 0.446|     0.0384|       0.736|             0.0|   0.613|   0.97|      [2019]|        0|\n",
      "|\"Legs (From \"\"RuP...|\"Legs (From \"\"RuP...|        Lucian Piane|        32|         0.9|  0.72|      0.232|     0.00502|         6.26E-6|   0.543|  0.749|      [2019]|       44|\n",
      "|\"More Than A Woma...|            Greatest|            Bee Gees|        75|       0.632| 0.683|     0.0383|       0.163|          1.3E-4|   0.847|  0.701|      [2020]|       63|\n",
      "|\"More Than A Woma...|How Can You Mend ...|            Bee Gees|        75|       0.601| 0.703|     0.0379|       0.175|          8.4E-5|   0.571|  0.673|      [2022]|       76|\n",
      "|\"Part of Your Wor...|  The Little Mermaid|         Jodi Benson|        53|       0.387| 0.132|     0.0386|       0.914|         7.07E-4|   0.281|  0.323|      [2020]|       60|\n",
      "|\"Sofia the First ...|     Sofia the First|Cast - Sofia the ...|        44|       0.655| 0.789|     0.0489|       0.423|             0.0|    0.13|   0.66|      [2020]|       54|\n",
      "|  #BrooklynBloodPop!|  #BrooklynBloodPop!|                SyKo|        58|       0.691| 0.814|      0.117|      0.0164|             0.0|   0.366|  0.509|      [2021]|       75|\n",
      "|1, 2, 3 (feat. Ja...|1, 2, 3 (feat. Ja...|         Sofía Reyes|        72|       0.792| 0.895|     0.0589|       0.165|             0.0|  0.0501|  0.794|      [2022]|       82|\n",
      "|2 Phút Hơn - KAIZ...|2 Phút Hơn (KAIZ ...|                Pháo|        46|       0.845| 0.733|     0.0566|      0.0265|          0.0109|   0.063|   0.28|      [2021]|       62|\n",
      "|              20 Min|Luv Is Rage 2 (De...|        Lil Uzi Vert|        85|       0.773|  0.75|      0.117|       0.109|             0.0|   0.174|  0.783|      [2020]|       83|\n",
      "|223's (feat. 9lok...|223's (feat. 9lok...|           YNW Melly|        73|       0.932| 0.547|      0.333|      0.0388|             0.0|  0.0924|  0.695|      [2020]|       65|\n",
      "|223's (feat. 9lok...|    Melly vs. Melvin|           YNW Melly|        73|       0.932| 0.547|      0.333|      0.0388|             0.0|  0.0924|  0.695|      [2019]|       66|\n",
      "|                24/7|                CECE|       Celina Sharma|        52|       0.704| 0.638|     0.0742|       0.385|             0.0|  0.0683|  0.386|      [2021]|       67|\n",
      "|        3 Musketeers|        3 Musketeers|         NextYoungin|        47|        0.91| 0.617|     0.0847|       0.258|             0.0|   0.122|  0.572|      [2020]|       65|\n",
      "|           3 Strikes|            Bop City|           Terror Jr|        47|       0.599| 0.432|     0.0451|        0.62|         0.00773|   0.105|  0.615|      [2021]|       56|\n",
      "|               34+35|           Positions|       Ariana Grande|        87|        0.83| 0.585|      0.094|       0.237|             0.0|   0.248|  0.485|[2021, 2022]|       80|\n",
      "|             7 rings|             7 rings|       Ariana Grande|        87|       0.725| 0.321|      0.323|       0.578|             0.0|  0.0884|  0.319|      [2019]|        1|\n",
      "|    A Thousand Years|    A Thousand Years|     Christina Perri|        70|       0.421| 0.407|     0.0267|       0.309|         9.61E-4|    0.11|  0.161|      [2019]|       80|\n",
      "|                A.M.|                A.M.|               Lonr.|        44|        0.74| 0.761|     0.0851|      0.0691|             0.0|   0.142|  0.453|      [2019]|       51|\n",
      "|              ALL IN|   HighDefGang Vol.1|         ZaeHD & CEO|        37|       0.895| 0.394|      0.407|     6.86E-4|             0.0|   0.239|  0.491|      [2019]|       44|\n",
      "+--------------------+--------------------+--------------------+----------+------------+------+-----------+------------+----------------+--------+-------+------------+---------+\n",
      "only showing top 20 rows\n",
      "\n"
     ]
    },
    {
     "name": "stderr",
     "output_type": "stream",
     "text": [
      "                                                                                \r"
     ]
    },
    {
     "data": {
      "text/plain": [
       "853"
      ]
     },
     "execution_count": 7,
     "metadata": {},
     "output_type": "execute_result"
    }
   ],
   "source": [
    "from pyspark.sql.functions import expr\n",
    "from pyspark.sql.functions import max\n",
    "from pyspark.sql.functions import avg\n",
    "from pyspark.sql.functions import size\n",
    "from pyspark.sql.functions import sort_array\n",
    "from pyspark.sql.functions import collect_list\n",
    "\n",
    "\n",
    "tiktokData2 = tiktokData\n",
    "\n",
    "tiktokData3 = tiktokData2.select(\"*\").groupBy(\"track_name\", \"album\", \"artist_name\", \"artist_pop\")\\\n",
    ".agg(avg(\"danceability\").alias(\"danceability\"), avg(\"energy\").alias(\"energy\"),\\\n",
    "     avg(\"speechiness\").alias(\"speechiness\"), avg(\"acousticness\").alias(\"acousticness\"),\\\n",
    "     avg(\"instrumentalness\").alias(\"instrumentalness\"), avg(\"liveness\").alias(\"liveness\"),\\\n",
    "     avg(\"valence\").alias(\"valence\"), collect_list(\"year\").alias(\"years\"), max(\"track_pop\").alias(\"track_pop\"))\\\n",
    "\n",
    "tiktokData3.show()\n",
    "tiktokData3.write.format(\"parquet\").mode(\"overwrite\").save(\"newTick\")\n",
    "tiktokData3.count()"
   ]
  },
  {
   "cell_type": "markdown",
   "id": "a4fa2dc8",
   "metadata": {},
   "source": [
    "№5: Отсортируйте песни по количеству вхождений в датасеты и популярности. Выведите их вместе со списками годов наборов данных.\n",
    "\n",
    "|          track_name|               album|     artist_name|track_pop|               years|\n",
    "|--------------------|--------------------|----------------|---------|--------------------|\n",
    "|              Say So|            Hot Pink|        Doja Cat|       80|[2019, 2020, 2021...|\n",
    "|      Wait a Minute!|        ARDIPITHECUS|          WILLOW|       86|  [2019, 2020, 2022]|\n",
    "|       Electric Love|            Dopamine|           BØRNS|       82|  [2020, 2021, 2022]|\n",
    "|           Play Date|Cry Baby (Deluxe ...|Melanie Martinez|       78|  [2020, 2021, 2022]|\n",
    "|             ROXANNE|             ROXANNE|  Arizona Zervas|       78|  [2019, 2020, 2022]|\n",
    "|Savage Love (Laxe...|Savage Love (Laxe...|       Jawsh 685|       77|  [2020, 2021, 2022]|\n",
    "\n",
    "<div style=\"text-align: center\"> only showing top 6 rows </div>"
   ]
  },
  {
   "cell_type": "code",
   "execution_count": 8,
   "id": "db4e6270",
   "metadata": {},
   "outputs": [
    {
     "name": "stdout",
     "output_type": "stream",
     "text": [
      "+--------------------------------------+---------------------------------+-----------------+----------+------------------+-------------------+--------------------+------------+----------------+--------+-------+------------------------+---------+\n",
      "|track_name                            |album                            |artist_name      |artist_pop|danceability      |energy             |speechiness         |acousticness|instrumentalness|liveness|valence|years                   |track_pop|\n",
      "+--------------------------------------+---------------------------------+-----------------+----------+------------------+-------------------+--------------------+------------+----------------+--------+-------+------------------------+---------+\n",
      "|Say So                                |Hot Pink                         |Doja Cat         |88        |0.787             |0.673              |0.159               |0.264       |3.35E-6         |0.0904  |0.779  |[2020, 2021, 2022, 2019]|80       |\n",
      "|Wait a Minute!                        |ARDIPITHECUS                     |WILLOW           |76        |0.7639999999999999|0.705              |0.027800000000000002|0.0371      |1.94E-5         |0.0943  |0.672  |[2020, 2022, 2019]      |86       |\n",
      "|Electric Love                         |Dopamine                         |BØRNS            |67        |0.611             |0.797              |0.05329999999999999 |0.00543     |0.00137         |0.26    |0.518  |[2020, 2021, 2022]      |82       |\n",
      "|Play Date                             |Cry Baby (Deluxe Edition)        |Melanie Martinez |78        |0.68              |0.729              |0.04750000000000001 |0.612       |0.0             |0.224   |0.446  |[2020, 2021, 2022]      |78       |\n",
      "|ROXANNE                               |ROXANNE                          |Arizona Zervas   |66        |0.621             |0.601              |0.148               |0.0522      |0.0             |0.46    |0.457  |[2020, 2022, 2019]      |78       |\n",
      "|Savage Love (Laxed - Siren Beat)      |Savage Love (Laxed - Siren Beat) |Jawsh 685        |63        |0.767             |0.48100000000000004|0.0803              |0.234       |0.0             |0.269   |0.761  |[2020, 2021, 2022]      |77       |\n",
      "|Baby I'm Yours                        |By Your Side                     |Breakbot         |57        |0.8290000000000001|0.7920000000000001 |0.0668              |0.726       |5.83E-6         |0.122   |0.758  |[2020, 2022, 2019]      |69       |\n",
      "|MIDDLE OF THE NIGHT                   |MIDDLE OF THE NIGHT              |Elley Duhé       |75        |0.41              |0.611              |0.0467              |0.0228      |0.0             |0.116   |0.0899 |[2021, 2022]            |91       |\n",
      "|Dandelions                            |Safe Haven                       |Ruth B.          |75        |0.609             |0.692              |0.0259              |0.0157      |0.0             |0.0864  |0.454  |[2021, 2022]            |90       |\n",
      "|Sweater Weather                       |I Love You.                      |The Neighbourhood|83        |0.612             |0.807              |0.0336              |0.0495      |0.0177          |0.101   |0.398  |[2019, 2022]            |90       |\n",
      "|Blinding Lights                       |After Hours                      |The Weeknd       |93        |0.514             |0.73               |0.0598              |0.00146     |9.54E-5         |0.0897  |0.334  |[2020, 2022]            |90       |\n",
      "|STAY (with Justin Bieber)             |STAY (with Justin Bieber)        |The Kid LAROI    |83        |0.591             |0.764              |0.0483              |0.0383      |0.0             |0.103   |0.478  |[2021, 2022]            |89       |\n",
      "|Woman                                 |Planet Her                       |Doja Cat         |88        |0.824             |0.764              |0.0854              |0.0888      |0.00294         |0.117   |0.881  |[2021, 2022]            |89       |\n",
      "|THATS WHAT I WANT                     |MONTERO                          |Lil Nas X        |81        |0.737             |0.846              |0.22                |0.00614     |0.0             |0.0486  |0.546  |[2021, 2022]            |88       |\n",
      "|Save Your Tears                       |After Hours                      |The Weeknd       |93        |0.68              |0.826              |0.0309              |0.0212      |1.24E-5         |0.543   |0.644  |[2020, 2021]            |88       |\n",
      "|abcdefu                               |abcdefu                          |GAYLE            |71        |0.695             |0.54               |0.0493              |0.299       |0.0             |0.367   |0.415  |[2021, 2022]            |87       |\n",
      "|INDUSTRY BABY (feat. Jack Harlow)     |INDUSTRY BABY (feat. Jack Harlow)|Lil Nas X        |81        |0.736             |0.704              |0.0615              |0.0203      |0.0             |0.0501  |0.894  |[2021, 2022]            |86       |\n",
      "|Peaches (feat. Daniel Caesar & Giveon)|Justice                          |Justin Bieber    |90        |0.677             |0.696              |0.119               |0.321       |0.0             |0.42    |0.464  |[2021, 2022]            |86       |\n",
      "|Beggin'                               |Chosen                           |Måneskin         |78        |0.714             |0.8                |0.0504              |0.127       |0.0             |0.359   |0.589  |[2021, 2022]            |86       |\n",
      "|Need to Know                          |Planet Her                       |Doja Cat         |88        |0.664             |0.609              |0.0707              |0.304       |0.0             |0.0926  |0.194  |[2021, 2022]            |85       |\n",
      "+--------------------------------------+---------------------------------+-----------------+----------+------------------+-------------------+--------------------+------------+----------------+--------+-------+------------------------+---------+\n",
      "only showing top 20 rows\n",
      "\n"
     ]
    }
   ],
   "source": [
    "from pyspark.sql.functions import col\n",
    "\n",
    "tiktokData4 = tiktokData3\n",
    "\n",
    "tiktokData4.sort(size(col(\"years\")).desc(), col(\"track_pop\").desc()).show(truncate=False)"
   ]
  },
  {
   "cell_type": "markdown",
   "id": "f8bb1709",
   "metadata": {},
   "source": [
    "№6: Найдите все треки с повторяющимися именами. Выполните их сортировку по названию. Выведите названия песен, названия альбомов, имена исполнителей и годы датасетов. Сколько строк в полученной таблице?\n",
    "\n",
    "|          track_name|               album|   artist_name| years|\n",
    "|--------------------|--------------------|--------------|------|\n",
    "|\"More Than A Woma...|How Can You Mend ...|      Bee Gees|[2022]|\n",
    "|\"More Than A Woma...|            Greatest|      Bee Gees|[2020]|\n",
    "|223's (feat. 9lok...|    Melly vs. Melvin|     YNW Melly|[2019]|\n",
    "|223's (feat. 9lok...|223's (feat. 9lok...|     YNW Melly|[2020]|\n",
    "|           As It Was|           As It Was|Michael Shynes|[2022]|\n",
    "|           As It Was|           As It Was|  Harry Styles|[2022]|\n",
    "\n",
    "<div style=\"text-align: center\"> only showing top 6 rows </div>"
   ]
  },
  {
   "cell_type": "code",
   "execution_count": null,
   "id": "e866659a",
   "metadata": {},
   "outputs": [],
   "source": []
  }
 ],
 "metadata": {
  "kernelspec": {
   "display_name": "Python 3 (ipykernel)",
   "language": "python",
   "name": "python3"
  },
  "language_info": {
   "codemirror_mode": {
    "name": "ipython",
    "version": 3
   },
   "file_extension": ".py",
   "mimetype": "text/x-python",
   "name": "python",
   "nbconvert_exporter": "python",
   "pygments_lexer": "ipython3",
   "version": "3.10.6"
  }
 },
 "nbformat": 4,
 "nbformat_minor": 5
}
