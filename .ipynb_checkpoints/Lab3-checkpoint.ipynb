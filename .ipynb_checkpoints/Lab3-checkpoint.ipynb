{
 "cells": [
  {
   "cell_type": "markdown",
   "id": "667e9e7b",
   "metadata": {},
   "source": [
    "- Прочитайте главы 7-8 из книги \"Spark: The Definitive Guide\".\n",
    "- Загрузите датасеты по ссылкам:\n",
    "    - https://www.kaggle.com/datasets/sveta151/tiktok-popular-songs-2019\n",
    "    - https://www.kaggle.com/datasets/sveta151/tiktok-popular-songs-2020\n",
    "    - https://www.kaggle.com/datasets/sveta151/tiktok-popular-songs-2021\n",
    "    - https://www.kaggle.com/datasets/sveta151/tiktok-popular-songs-2022\n",
    "- Выполните задания."
   ]
  },
  {
   "cell_type": "code",
   "execution_count": 5,
   "id": "90ae95f5",
   "metadata": {},
   "outputs": [],
   "source": [
    "from pyspark.sql import SparkSession\n",
    "spark = SparkSession.builder\\\n",
    "                    .master(\"local\")\\\n",
    "                    .appName('SparkLab3')\\\n",
    "                    .getOrCreate()\n",
    "\n",
    "# Загружаем наборы данных в один DataFrame.\n",
    "tiktokData19 = spark\\\n",
    "  .read\\\n",
    "  .option(\"inferSchema\", \"true\")\\\n",
    "  .option(\"header\", \"true\")\\\n",
    "  .csv(\"/home/student/Desktop/TikTok_songs_2019.csv\")\n",
    "tiktokData20 = spark\\\n",
    "  .read\\\n",
    "  .option(\"inferSchema\", \"true\")\\\n",
    "  .option(\"header\", \"true\")\\\n",
    "  .csv(\"/home/student/Desktop/TikTok_songs_2020.csv\")\n",
    "tiktokData21 = spark\\\n",
    "  .read\\\n",
    "  .option(\"inferSchema\", \"true\")\\\n",
    "  .option(\"header\", \"true\")\\\n",
    "  .csv(\"/home/student/Desktop/TikTok_songs_2021.csv\")\n",
    "tiktokData22 = spark\\\n",
    "  .read\\\n",
    "  .option(\"inferSchema\", \"true\")\\\n",
    "  .option(\"header\", \"true\")\\\n",
    "  .csv(\"/home/student/Desktop/TikTok_songs_2022.csv\")"
   ]
  },
  {
   "cell_type": "markdown",
   "id": "6e4041a5",
   "metadata": {},
   "source": [
    "№1: Добавьте столбец year целочисленного типа, который содержит год датасета для каждой строки данных. Выведите самые танцевальные песни из наборов данных вместе с полем year.\n",
    "\n",
    "|          track_name|artist_name|year|danceability|\n",
    "|--------------------|-----------|----|------------|\n",
    "|  Dancing in My Room|   347aidan|2020|        0.98|\n",
    "|                 Uno|    Ambjaay|2019|       0.978|\n",
    "|I'm Looking for M...|   Memetown|2020|       0.977|\n",
    "|           Hood Baby|       KBFR|2020|       0.974|\n",
    "|              MICKEY| Lil Yachty|2019|       0.971|\n",
    "|Muffins In The Fr...|      Tiagz|2020|       0.965|\n",
    "\n",
    "<div style=\"text-align: center\"> only showing top 6 rows </div>"
   ]
  },
  {
   "cell_type": "code",
   "execution_count": 6,
   "id": "ff1e6c30",
   "metadata": {},
   "outputs": [
    {
     "name": "stdout",
     "output_type": "stream",
     "text": [
      "+--------------------+-----------+----+------------+\n",
      "|          track_name|artist_name|year|danceability|\n",
      "+--------------------+-----------+----+------------+\n",
      "|  Dancing in My Room|   347aidan|2020|        0.98|\n",
      "|                 Uno|    Ambjaay|2019|       0.978|\n",
      "|I'm Looking for M...|   Memetown|2020|       0.977|\n",
      "|           Hood Baby|       KBFR|2020|       0.974|\n",
      "|              MICKEY| Lil Yachty|2019|       0.971|\n",
      "|Muffins In The Fr...|      Tiagz|2020|       0.965|\n",
      "+--------------------+-----------+----+------------+\n",
      "only showing top 6 rows\n",
      "\n"
     ]
    }
   ],
   "source": [
    "from pyspark.sql.functions import input_file_name\n",
    "from pyspark.sql.functions import regexp_extract\n",
    "from pyspark.sql.functions import desc\n",
    "from pyspark.sql.types import IntegerType\n",
    "from pyspark.sql.functions import lit\n",
    "\n",
    "\n",
    "\n",
    "tiktokData19= tiktokData19.withColumn(\"year\", lit(2019)) \n",
    "tiktokData20= tiktokData20.withColumn(\"year\", lit(2020)) \n",
    "tiktokData21= tiktokData21.withColumn(\"year\", lit(2021)) \n",
    "tiktokData22= tiktokData22.withColumn(\"year\", lit(2022)) \n",
    "\n",
    "tiktokData1920 = tiktokData19.unionByName(tiktokData20)\n",
    "tiktokData192021 = tiktokData1920.unionByName(tiktokData21)\n",
    "tiktokData = tiktokData192021.unionByName(tiktokData22)\n",
    "\n",
    "                      \n",
    "tiktokData.sort(desc(\"danceability\")).select(\"track_name\", \"artist_name\", \"year\", \"danceability\").show(6)"
   ]
  },
  {
   "cell_type": "markdown",
   "id": "c60255bd",
   "metadata": {},
   "source": [
    "№2: Найдите исполнителей, которым сопоставлено более одного значения популярности. Выведите эти значения в виде списков.\n",
    "\n",
    "|          artist|popularity|\n",
    "|----------------|----------|\n",
    "|            KYLE|  [65, 66]|\n",
    "|Kero Kero Bonito|  [57, 56]|\n",
    "|       Kesh Kesh|  [27, 26]|\n",
    "|    Mahogany Lox|  [38, 37]|\n",
    "|   Trevor Daniel|  [66, 65]|\n",
    "|       blackbear|  [79, 80]|"
   ]
  },
  {
   "cell_type": "code",
   "execution_count": 3,
   "id": "31724a4e",
   "metadata": {},
   "outputs": [
    {
     "name": "stderr",
     "output_type": "stream",
     "text": [
      "[Stage 9:============================================>              (3 + 1) / 4]\r"
     ]
    },
    {
     "name": "stdout",
     "output_type": "stream",
     "text": [
      "+------------------+----------------------------+\n",
      "|artist_name       |artist_pop                  |\n",
      "+------------------+----------------------------+\n",
      "|Kanye West        |[90, 90, 90, 90, 90]        |\n",
      "|Kesha             |[76, 76, 76, 76, 76, 76, 76]|\n",
      "|Kuraiinu          |[42]                        |\n",
      "|K CAMP            |[63, 63]                    |\n",
      "|Kesh Kesh         |[27, 26]                    |\n",
      "|Kuwada            |[47]                        |\n",
      "|Kero Kero Bonito  |[56, 57]                    |\n",
      "|KYLE              |[65, 66, 66, 66]            |\n",
      "|Killua the Pilgrim|[16]                        |\n",
      "|Kenny Packer      |[24]                        |\n",
      "|KRYPTO9095        |[39]                        |\n",
      "|King Critical     |[29]                        |\n",
      "|KyleYouMadeThat   |[37]                        |\n",
      "|Kids Superstars   |[42]                        |\n",
      "|Kehlani           |[76]                        |\n",
      "|Kaash Paige       |[61]                        |\n",
      "|KBFR              |[36]                        |\n",
      "|Kendrick Lamar    |[88, 88]                    |\n",
      "|Kid Francescoli   |[56]                        |\n",
      "|K'ron             |[28]                        |\n",
      "|Kayla Nicole      |[54, 54]                    |\n",
      "|Kid Cudi          |[81]                        |\n",
      "|Khalid            |[85]                        |\n",
      "|Kaleb J           |[60]                        |\n",
      "|Khlaw             |[49]                        |\n",
      "|Kardinal Offishall|[60]                        |\n",
      "|Konfuz            |[51]                        |\n",
      "|Katy Perry        |[83, 83, 83]                |\n",
      "|Kate Bush         |[81]                        |\n",
      "|KillBunk          |[60]                        |\n",
      "|Kreepa            |[41]                        |\n",
      "|Kauai45           |[50]                        |\n",
      "|Kinrose           |[41]                        |\n",
      "|Kali Uchis        |[78]                        |\n",
      "+------------------+----------------------------+\n",
      "\n"
     ]
    },
    {
     "name": "stderr",
     "output_type": "stream",
     "text": [
      "\r",
      "                                                                                \r"
     ]
    }
   ],
   "source": [
    "from pyspark.sql.functions import col\n",
    "from pyspark.sql.functions import collect_list\n",
    "from pyspark.sql.functions import array\n",
    "\n",
    "tiktokData2 = tiktokData\\\n",
    "\n",
    "tiktokData2 = tiktokData2\\\n",
    ".groupBy(\"artist_name\").agg(collect_list(\"artist_pop\").alias(\"artist_pop\"))\n",
    "\n",
    "tiktokData2.where(\"artist_name ilike 'K%'\").show(50, False)"
   ]
  },
  {
   "cell_type": "markdown",
   "id": "37340d0e",
   "metadata": {},
   "source": [
    "№3: Исправьте различающиеся значения популярности исполнителей. Замените их на максимальные значения из полученных в предыдущем задании массивов.\n",
    "\n",
    "|          track_name|     artist_name|               album|artist_pop|\n",
    "|--------------------|----------------|--------------------|----------|\n",
    "|     hot girl bummer|       blackbear|     hot girl bummer|        80|\n",
    "|Hey Julie! (feat....|            KYLE|Light of Mine (De...|        66|\n",
    "|             Falling|   Trevor Daniel|             Falling|        66|\n",
    "|             Falling|   Trevor Daniel|            Nicotine|        66|\n",
    "|            Flamingo|Kero Kero Bonito|            Flamingo|        57|\n",
    "|       Take Your Man|    Mahogany Lox|       Take Your Man|        38|\n",
    "|              Vibin'|       Kesh Kesh|              Vibin'|        27|\n",
    "\n",
    "<div style=\"text-align: center\"> 968 </div>"
   ]
  },
  {
   "cell_type": "code",
   "execution_count": 4,
   "id": "61d8e2bd",
   "metadata": {},
   "outputs": [
    {
     "name": "stdout",
     "output_type": "stream",
     "text": [
      "+----------+-------------+--------+----------+\n",
      "|track_name|  artist_name|   album|artist_pop|\n",
      "+----------+-------------+--------+----------+\n",
      "|   Falling|Trevor Daniel| Falling|        66|\n",
      "|   Falling|Trevor Daniel|Nicotine|        66|\n",
      "|   Falling|Trevor Daniel| Falling|        66|\n",
      "|   Falling|Trevor Daniel| Falling|        66|\n",
      "+----------+-------------+--------+----------+\n",
      "\n"
     ]
    },
    {
     "name": "stderr",
     "output_type": "stream",
     "text": [
      "                                                                                \r"
     ]
    },
    {
     "name": "stdout",
     "output_type": "stream",
     "text": [
      "+--------------------+----------------+--------------------+----------+\n",
      "|          track_name|     artist_name|               album|artist_pop|\n",
      "+--------------------+----------------+--------------------+----------+\n",
      "|             Falling|   Trevor Daniel|            Nicotine|        66|\n",
      "|Hey Julie! (feat....|            KYLE|Light of Mine (De...|        66|\n",
      "|            Flamingo|Kero Kero Bonito|            Flamingo|        57|\n",
      "+--------------------+----------------+--------------------+----------+\n",
      "\n"
     ]
    },
    {
     "name": "stderr",
     "output_type": "stream",
     "text": [
      "                                                                                \r"
     ]
    },
    {
     "data": {
      "text/plain": [
       "968"
      ]
     },
     "execution_count": 4,
     "metadata": {},
     "output_type": "execute_result"
    }
   ],
   "source": [
    "from pyspark.sql.functions import array_max\n",
    "from pyspark.sql.functions import when\n",
    "\n",
    "tiktokData3 = tiktokData\\\n",
    " \n",
    "tiktokData2 = tiktokData2.select(\"artist_name\", array_max(\"artist_pop\").alias(\"artist_pop\"))\n",
    "\n",
    "\n",
    "tiktokData4 = tiktokData3.select(\"track_name\", \"artist_name\", \"album\", \"artist_pop\")\n",
    "tiktokData3 = tiktokData3.select(\"track_name\", col(\"artist_name\").alias(\"a\"), \"album\", col(\"artist_pop\").alias(\"old\"))\n",
    "tiktokData3 = tiktokData3.join(tiktokData2, tiktokData3.a == tiktokData2.artist_name, \"left\")\n",
    "\n",
    "tiktokData3 = tiktokData3.select(\"track_name\", \"artist_name\", \"album\", \"artist_pop\")\n",
    "\n",
    "tiktokData3.where(\"artist_name ilike 'Tre%'\").show(200)\n",
    "\n",
    "# Выводим различия между новым  и старым датафреймами\n",
    "substractDf = tiktokData3\\\n",
    "    .subtract(tiktokData4)\\\n",
    "    .select(\"track_name\", \"artist_name\", \"album\", \"artist_pop\")\\\n",
    "    .sort(desc(\"artist_pop\"))\n",
    "\n",
    "substractDf.show()\n",
    "tiktokData3.count()"
   ]
  },
  {
   "cell_type": "markdown",
   "id": "dacae573",
   "metadata": {},
   "source": [
    "№4: Сгруппируйте данные по названию трека, названию альбома, имени и популярности певца. Годы датасетов соберите в списки. Популярность треков возьмите из максимального значения. Для столбцов danceability, energy,   speechiness, acousticness, instrumentalness, liveness и valence возьмите среднее значение. Остальные столбцы отбросьте. Сколько получилось строк в сгруппированном DataFrame?\n",
    "\n",
    "Полученный датафрейм сохраните в новый parquet файл. Это можно сделать методом:\n",
    "\n",
    "```\n",
    "df.write.format(\"parquet\").mode(\"overwrite\").save(\"path to file\")\n",
    "```\n",
    "\n",
    "Результат при этом сохранится в новую директорию.\n",
    "Другой способ:\n",
    "\n",
    "```\n",
    "df.toPandas().to_parquet(\"path to file\")\n",
    "```\n",
    "\n",
    "Результат сохранится в один файл без создания директорий. Для этого способа понадобится библиотека pyarrow.\n",
    "Установите ее с помощью команд:\n",
    "\n",
    "```\n",
    "source ~/Work/bin/activate\n",
    "pip3 install pyarrow\n",
    "```"
   ]
  },
  {
   "cell_type": "code",
   "execution_count": null,
   "id": "ca52658d",
   "metadata": {},
   "outputs": [],
   "source": [
    "from pyspark.sql.functions import expr\n",
    "from pyspark.sql.functions import max\n",
    "from pyspark.sql.functions import avg\n",
    "from pyspark.sql.functions import size\n",
    "from pyspark.sql.functions import sort_array\n",
    "\n"
   ]
  },
  {
   "cell_type": "markdown",
   "id": "a4fa2dc8",
   "metadata": {},
   "source": [
    "№5: Отсортируйте песни по количеству вхождений в датасеты и популярности. Выведите их вместе со списками годов наборов данных.\n",
    "\n",
    "|          track_name|               album|     artist_name|track_pop|               years|\n",
    "|--------------------|--------------------|----------------|---------|--------------------|\n",
    "|              Say So|            Hot Pink|        Doja Cat|       80|[2019, 2020, 2021...|\n",
    "|      Wait a Minute!|        ARDIPITHECUS|          WILLOW|       86|  [2019, 2020, 2022]|\n",
    "|       Electric Love|            Dopamine|           BØRNS|       82|  [2020, 2021, 2022]|\n",
    "|           Play Date|Cry Baby (Deluxe ...|Melanie Martinez|       78|  [2020, 2021, 2022]|\n",
    "|             ROXANNE|             ROXANNE|  Arizona Zervas|       78|  [2019, 2020, 2022]|\n",
    "|Savage Love (Laxe...|Savage Love (Laxe...|       Jawsh 685|       77|  [2020, 2021, 2022]|\n",
    "\n",
    "<div style=\"text-align: center\"> only showing top 6 rows </div>"
   ]
  },
  {
   "cell_type": "code",
   "execution_count": null,
   "id": "db4e6270",
   "metadata": {},
   "outputs": [],
   "source": []
  },
  {
   "cell_type": "markdown",
   "id": "f8bb1709",
   "metadata": {},
   "source": [
    "№6: Найдите все треки с повторяющимися именами. Выполните их сортировку по названию. Выведите названия песен, названия альбомов, имена исполнителей и годы датасетов. Сколько строк в полученной таблице?\n",
    "\n",
    "|          track_name|               album|   artist_name| years|\n",
    "|--------------------|--------------------|--------------|------|\n",
    "|\"More Than A Woma...|How Can You Mend ...|      Bee Gees|[2022]|\n",
    "|\"More Than A Woma...|            Greatest|      Bee Gees|[2020]|\n",
    "|223's (feat. 9lok...|    Melly vs. Melvin|     YNW Melly|[2019]|\n",
    "|223's (feat. 9lok...|223's (feat. 9lok...|     YNW Melly|[2020]|\n",
    "|           As It Was|           As It Was|Michael Shynes|[2022]|\n",
    "|           As It Was|           As It Was|  Harry Styles|[2022]|\n",
    "\n",
    "<div style=\"text-align: center\"> only showing top 6 rows </div>"
   ]
  },
  {
   "cell_type": "code",
   "execution_count": null,
   "id": "e866659a",
   "metadata": {},
   "outputs": [],
   "source": []
  }
 ],
 "metadata": {
  "kernelspec": {
   "display_name": "Python 3 (ipykernel)",
   "language": "python",
   "name": "python3"
  },
  "language_info": {
   "codemirror_mode": {
    "name": "ipython",
    "version": 3
   },
   "file_extension": ".py",
   "mimetype": "text/x-python",
   "name": "python",
   "nbconvert_exporter": "python",
   "pygments_lexer": "ipython3",
   "version": "3.10.4"
  }
 },
 "nbformat": 4,
 "nbformat_minor": 5
}
